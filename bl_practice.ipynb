{
 "cells": [
  {
   "cell_type": "code",
   "execution_count": 80,
   "id": "86fd574e",
   "metadata": {},
   "outputs": [],
   "source": [
    "import pandas as pd\n",
    "import numpy as np\n",
    "import matplotlib.pyplot as plt\n",
    "import pandas_datareader.data as web\n",
    "from statsmodels.stats.correlation_tools import cov_nearest\n",
    "from numpy.linalg import inv"
   ]
  },
  {
   "cell_type": "code",
   "execution_count": 81,
   "id": "32a64194",
   "metadata": {},
   "outputs": [],
   "source": [
    "# Black_Litterman 프레임워크 산출\n",
    "# 0. 대상 종목 정보 가져오기 \n",
    "# 1. 시가총액, 평균 수익률로 Prior_wgt 산출하기 \n",
    "# 2. Cov_mtrx, Lambda 로 Prior_rtn 산출하기\n",
    "# 3. 단위행렬(P), 전략계수(str_Q) 셋팅하기 \n",
    "# 4. P와 tau로 Omega mtrx산출, str_Q로 Q array 산출하기\n",
    "# 5. P와 Q와 Omega로 Post_rtn 산출, Lambda와 Post_rtn으로 Post_wgt 산출하기 "
   ]
  },
  {
   "cell_type": "code",
   "execution_count": 82,
   "id": "6a6fa060",
   "metadata": {},
   "outputs": [],
   "source": [
    "ret = np.array([0.0867, 0.0372, 0.39])\n",
    "wgt = np.array([[0.4],\n",
    "                [0.5],\n",
    "                [0.1]])\n",
    "cov = np.array([[0.0084,-0.0009,0.0077],\n",
    "                [-0.0009,0.0016,0.0045],\n",
    "                [0.0077,0.0045,0.0622]])\n",
    "rf = 0.0165"
   ]
  },
  {
   "cell_type": "code",
   "execution_count": 85,
   "id": "ffb6e5fb",
   "metadata": {},
   "outputs": [
    {
     "data": {
      "text/plain": [
       "array([0.07578])"
      ]
     },
     "execution_count": 85,
     "metadata": {},
     "output_type": "execute_result"
    }
   ],
   "source": [
    "exp_excess_rtn = np.dot(ret - rf,wgt)\n",
    "exp_excess_rtn"
   ]
  },
  {
   "cell_type": "code",
   "execution_count": 86,
   "id": "29cde0ca",
   "metadata": {},
   "outputs": [
    {
     "data": {
      "text/plain": [
       "array([[0.003072]])"
      ]
     },
     "execution_count": 86,
     "metadata": {},
     "output_type": "execute_result"
    }
   ],
   "source": [
    "var = np.dot(wgt.T,np.dot(cov,wgt))\n",
    "var"
   ]
  },
  {
   "cell_type": "code",
   "execution_count": 87,
   "id": "791f8155",
   "metadata": {},
   "outputs": [
    {
     "data": {
      "text/plain": [
       "array([[24.66796875]])"
      ]
     },
     "execution_count": 87,
     "metadata": {},
     "output_type": "execute_result"
    }
   ],
   "source": [
    "lmbda = exp_excess_rtn / var\n",
    "lmbda"
   ]
  },
  {
   "cell_type": "code",
   "execution_count": 88,
   "id": "7eb26378",
   "metadata": {},
   "outputs": [],
   "source": [
    "lmbda = 24.3820"
   ]
  },
  {
   "cell_type": "code",
   "execution_count": 89,
   "id": "9ad0d8ce",
   "metadata": {},
   "outputs": [
    {
     "data": {
      "text/plain": [
       "array([[0.10622576],\n",
       "       [0.03819998],\n",
       "       [0.2981121 ]])"
      ]
     },
     "execution_count": 89,
     "metadata": {},
     "output_type": "execute_result"
    }
   ],
   "source": [
    "pi = (lmbda * np.dot(cov, wgt) + rf)\n",
    "pi"
   ]
  },
  {
   "cell_type": "code",
   "execution_count": 90,
   "id": "ab656e00",
   "metadata": {},
   "outputs": [
    {
     "data": {
      "text/plain": [
       "array([[0.1072],\n",
       "       [0.0392],\n",
       "       [0.2972]])"
      ]
     },
     "execution_count": 90,
     "metadata": {},
     "output_type": "execute_result"
    }
   ],
   "source": [
    "pi = np.array([[0.1072],[0.0392],[0.2972]])\n",
    "pi"
   ]
  },
  {
   "cell_type": "code",
   "execution_count": 91,
   "id": "3a42b2df",
   "metadata": {},
   "outputs": [
    {
     "data": {
      "text/plain": [
       "array([[1, 0, 0],\n",
       "       [0, 1, 0],\n",
       "       [0, 0, 1]])"
      ]
     },
     "execution_count": 91,
     "metadata": {},
     "output_type": "execute_result"
    }
   ],
   "source": [
    "P = np.array([[1,0,0],[0,1,0],[0,0,1]])\n",
    "P"
   ]
  },
  {
   "cell_type": "code",
   "execution_count": 92,
   "id": "57bb57e7",
   "metadata": {},
   "outputs": [],
   "source": [
    "tau = 0.03"
   ]
  },
  {
   "cell_type": "code",
   "execution_count": 93,
   "id": "77a41577",
   "metadata": {},
   "outputs": [
    {
     "data": {
      "text/plain": [
       "array([[ 2.520e-04, -0.000e+00,  0.000e+00],\n",
       "       [-0.000e+00,  4.800e-05,  0.000e+00],\n",
       "       [ 0.000e+00,  0.000e+00,  1.866e-03]])"
      ]
     },
     "execution_count": 93,
     "metadata": {},
     "output_type": "execute_result"
    }
   ],
   "source": [
    "omega = np.dot(np.dot(P,cov),P.T) * tau * np.eye(3)\n",
    "omega"
   ]
  },
  {
   "cell_type": "code",
   "execution_count": 94,
   "id": "e10942e9",
   "metadata": {},
   "outputs": [
    {
     "data": {
      "text/plain": [
       "array([[ 0.0084, -0.0009,  0.0077],\n",
       "       [-0.0009,  0.0016,  0.0045],\n",
       "       [ 0.0077,  0.0045,  0.0622]])"
      ]
     },
     "execution_count": 94,
     "metadata": {},
     "output_type": "execute_result"
    }
   ],
   "source": [
    "cov"
   ]
  },
  {
   "cell_type": "code",
   "execution_count": 95,
   "id": "8c1d8d38",
   "metadata": {},
   "outputs": [],
   "source": [
    "bl_Q = np.array([[-0.0108],\n",
    "                 [-0.0004],\n",
    "                 [0.0334]])"
   ]
  },
  {
   "cell_type": "code",
   "execution_count": 96,
   "id": "91bfb371",
   "metadata": {},
   "outputs": [
    {
     "data": {
      "text/plain": [
       "array([[0.08938],\n",
       "       [0.03854],\n",
       "       [0.35231]])"
      ]
     },
     "execution_count": 96,
     "metadata": {},
     "output_type": "execute_result"
    }
   ],
   "source": [
    "Q = pi + 100 * rf * bl_Q\n",
    "Q "
   ]
  },
  {
   "cell_type": "code",
   "execution_count": 97,
   "id": "463fff27",
   "metadata": {},
   "outputs": [
    {
     "data": {
      "text/plain": [
       "array([[0.10116556],\n",
       "       [0.04080895],\n",
       "       [0.31616257]])"
      ]
     },
     "execution_count": 97,
     "metadata": {},
     "output_type": "execute_result"
    }
   ],
   "source": [
    "post_ret = pi + np.dot( np.dot( tau * np.dot(cov,P.T) , inv(omega + tau * np.dot(P,np.dot(cov,P.T)))) , (Q - np.dot(P, pi)))\n",
    "post_ret"
   ]
  },
  {
   "cell_type": "code",
   "execution_count": 98,
   "id": "6abbe079",
   "metadata": {
    "scrolled": true
   },
   "outputs": [
    {
     "data": {
      "text/plain": [
       "array([[0.35881568],\n",
       "       [0.49484902],\n",
       "       [0.11737328]])"
      ]
     },
     "execution_count": 98,
     "metadata": {},
     "output_type": "execute_result"
    }
   ],
   "source": [
    "post_wgt = np.dot( inv(lmbda*cov) , (post_ret - rf))\n",
    "post_wgt"
   ]
  },
  {
   "cell_type": "code",
   "execution_count": 99,
   "id": "b3efefce",
   "metadata": {},
   "outputs": [
    {
     "data": {
      "text/plain": [
       "array([[0.36951766],\n",
       "       [0.50960831],\n",
       "       [0.12087404]])"
      ]
     },
     "execution_count": 99,
     "metadata": {},
     "output_type": "execute_result"
    }
   ],
   "source": [
    "adj_post_wgt = post_wgt/post_wgt.sum()\n",
    "adj_post_wgt"
   ]
  },
  {
   "cell_type": "code",
   "execution_count": null,
   "id": "af2f4907",
   "metadata": {},
   "outputs": [],
   "source": []
  },
  {
   "cell_type": "code",
   "execution_count": null,
   "id": "8498aea1",
   "metadata": {},
   "outputs": [],
   "source": []
  },
  {
   "cell_type": "code",
   "execution_count": null,
   "id": "edb95558",
   "metadata": {},
   "outputs": [],
   "source": []
  },
  {
   "cell_type": "code",
   "execution_count": null,
   "id": "1aa7b30f",
   "metadata": {},
   "outputs": [],
   "source": []
  }
 ],
 "metadata": {
  "kernelspec": {
   "display_name": "Python 3",
   "language": "python",
   "name": "python3"
  },
  "language_info": {
   "codemirror_mode": {
    "name": "ipython",
    "version": 3
   },
   "file_extension": ".py",
   "mimetype": "text/x-python",
   "name": "python",
   "nbconvert_exporter": "python",
   "pygments_lexer": "ipython3",
   "version": "3.8.8"
  }
 },
 "nbformat": 4,
 "nbformat_minor": 5
}
